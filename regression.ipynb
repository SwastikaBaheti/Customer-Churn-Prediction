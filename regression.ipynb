{
 "cells": [
  {
   "cell_type": "code",
   "execution_count": 43,
   "id": "c8ca067d",
   "metadata": {},
   "outputs": [],
   "source": [
    "import numpy as numpy\n",
    "import pandas as pd\n",
    "import pickle\n",
    "from sklearn.model_selection import train_test_split\n",
    "from sklearn.preprocessing import StandardScaler, LabelEncoder, OneHotEncoder"
   ]
  },
  {
   "cell_type": "code",
   "execution_count": 44,
   "id": "36f5d73e",
   "metadata": {},
   "outputs": [
    {
     "data": {
      "text/html": [
       "<div>\n",
       "<style scoped>\n",
       "    .dataframe tbody tr th:only-of-type {\n",
       "        vertical-align: middle;\n",
       "    }\n",
       "\n",
       "    .dataframe tbody tr th {\n",
       "        vertical-align: top;\n",
       "    }\n",
       "\n",
       "    .dataframe thead th {\n",
       "        text-align: right;\n",
       "    }\n",
       "</style>\n",
       "<table border=\"1\" class=\"dataframe\">\n",
       "  <thead>\n",
       "    <tr style=\"text-align: right;\">\n",
       "      <th></th>\n",
       "      <th>RowNumber</th>\n",
       "      <th>CustomerId</th>\n",
       "      <th>Surname</th>\n",
       "      <th>CreditScore</th>\n",
       "      <th>Geography</th>\n",
       "      <th>Gender</th>\n",
       "      <th>Age</th>\n",
       "      <th>Tenure</th>\n",
       "      <th>Balance</th>\n",
       "      <th>NumOfProducts</th>\n",
       "      <th>HasCrCard</th>\n",
       "      <th>IsActiveMember</th>\n",
       "      <th>EstimatedSalary</th>\n",
       "      <th>Exited</th>\n",
       "    </tr>\n",
       "  </thead>\n",
       "  <tbody>\n",
       "    <tr>\n",
       "      <th>0</th>\n",
       "      <td>1</td>\n",
       "      <td>15634602</td>\n",
       "      <td>Hargrave</td>\n",
       "      <td>619</td>\n",
       "      <td>France</td>\n",
       "      <td>Female</td>\n",
       "      <td>42</td>\n",
       "      <td>2</td>\n",
       "      <td>0.00</td>\n",
       "      <td>1</td>\n",
       "      <td>1</td>\n",
       "      <td>1</td>\n",
       "      <td>101348.88</td>\n",
       "      <td>1</td>\n",
       "    </tr>\n",
       "    <tr>\n",
       "      <th>1</th>\n",
       "      <td>2</td>\n",
       "      <td>15647311</td>\n",
       "      <td>Hill</td>\n",
       "      <td>608</td>\n",
       "      <td>Spain</td>\n",
       "      <td>Female</td>\n",
       "      <td>41</td>\n",
       "      <td>1</td>\n",
       "      <td>83807.86</td>\n",
       "      <td>1</td>\n",
       "      <td>0</td>\n",
       "      <td>1</td>\n",
       "      <td>112542.58</td>\n",
       "      <td>0</td>\n",
       "    </tr>\n",
       "    <tr>\n",
       "      <th>2</th>\n",
       "      <td>3</td>\n",
       "      <td>15619304</td>\n",
       "      <td>Onio</td>\n",
       "      <td>502</td>\n",
       "      <td>France</td>\n",
       "      <td>Female</td>\n",
       "      <td>42</td>\n",
       "      <td>8</td>\n",
       "      <td>159660.80</td>\n",
       "      <td>3</td>\n",
       "      <td>1</td>\n",
       "      <td>0</td>\n",
       "      <td>113931.57</td>\n",
       "      <td>1</td>\n",
       "    </tr>\n",
       "    <tr>\n",
       "      <th>3</th>\n",
       "      <td>4</td>\n",
       "      <td>15701354</td>\n",
       "      <td>Boni</td>\n",
       "      <td>699</td>\n",
       "      <td>France</td>\n",
       "      <td>Female</td>\n",
       "      <td>39</td>\n",
       "      <td>1</td>\n",
       "      <td>0.00</td>\n",
       "      <td>2</td>\n",
       "      <td>0</td>\n",
       "      <td>0</td>\n",
       "      <td>93826.63</td>\n",
       "      <td>0</td>\n",
       "    </tr>\n",
       "    <tr>\n",
       "      <th>4</th>\n",
       "      <td>5</td>\n",
       "      <td>15737888</td>\n",
       "      <td>Mitchell</td>\n",
       "      <td>850</td>\n",
       "      <td>Spain</td>\n",
       "      <td>Female</td>\n",
       "      <td>43</td>\n",
       "      <td>2</td>\n",
       "      <td>125510.82</td>\n",
       "      <td>1</td>\n",
       "      <td>1</td>\n",
       "      <td>1</td>\n",
       "      <td>79084.10</td>\n",
       "      <td>0</td>\n",
       "    </tr>\n",
       "  </tbody>\n",
       "</table>\n",
       "</div>"
      ],
      "text/plain": [
       "   RowNumber  CustomerId   Surname  ...  IsActiveMember EstimatedSalary Exited\n",
       "0          1    15634602  Hargrave  ...               1       101348.88      1\n",
       "1          2    15647311      Hill  ...               1       112542.58      0\n",
       "2          3    15619304      Onio  ...               0       113931.57      1\n",
       "3          4    15701354      Boni  ...               0        93826.63      0\n",
       "4          5    15737888  Mitchell  ...               1        79084.10      0\n",
       "\n",
       "[5 rows x 14 columns]"
      ]
     },
     "execution_count": 44,
     "metadata": {},
     "output_type": "execute_result"
    }
   ],
   "source": [
    "df = pd.read_csv('Churn_Modelling.csv')\n",
    "df.head(5)"
   ]
  },
  {
   "cell_type": "code",
   "execution_count": 45,
   "id": "e4f81da5",
   "metadata": {},
   "outputs": [],
   "source": [
    "# Dropping the first 3 columns as they are not important\n",
    "df.drop(columns=['RowNumber', 'CustomerId', 'Surname'], axis=1, inplace=True)"
   ]
  },
  {
   "cell_type": "code",
   "execution_count": 46,
   "id": "ef106caa",
   "metadata": {},
   "outputs": [
    {
     "data": {
      "text/html": [
       "<div>\n",
       "<style scoped>\n",
       "    .dataframe tbody tr th:only-of-type {\n",
       "        vertical-align: middle;\n",
       "    }\n",
       "\n",
       "    .dataframe tbody tr th {\n",
       "        vertical-align: top;\n",
       "    }\n",
       "\n",
       "    .dataframe thead th {\n",
       "        text-align: right;\n",
       "    }\n",
       "</style>\n",
       "<table border=\"1\" class=\"dataframe\">\n",
       "  <thead>\n",
       "    <tr style=\"text-align: right;\">\n",
       "      <th></th>\n",
       "      <th>CreditScore</th>\n",
       "      <th>Geography</th>\n",
       "      <th>Gender</th>\n",
       "      <th>Age</th>\n",
       "      <th>Tenure</th>\n",
       "      <th>Balance</th>\n",
       "      <th>NumOfProducts</th>\n",
       "      <th>HasCrCard</th>\n",
       "      <th>IsActiveMember</th>\n",
       "      <th>EstimatedSalary</th>\n",
       "      <th>Exited</th>\n",
       "    </tr>\n",
       "  </thead>\n",
       "  <tbody>\n",
       "    <tr>\n",
       "      <th>0</th>\n",
       "      <td>619</td>\n",
       "      <td>France</td>\n",
       "      <td>Female</td>\n",
       "      <td>42</td>\n",
       "      <td>2</td>\n",
       "      <td>0.00</td>\n",
       "      <td>1</td>\n",
       "      <td>1</td>\n",
       "      <td>1</td>\n",
       "      <td>101348.88</td>\n",
       "      <td>1</td>\n",
       "    </tr>\n",
       "    <tr>\n",
       "      <th>1</th>\n",
       "      <td>608</td>\n",
       "      <td>Spain</td>\n",
       "      <td>Female</td>\n",
       "      <td>41</td>\n",
       "      <td>1</td>\n",
       "      <td>83807.86</td>\n",
       "      <td>1</td>\n",
       "      <td>0</td>\n",
       "      <td>1</td>\n",
       "      <td>112542.58</td>\n",
       "      <td>0</td>\n",
       "    </tr>\n",
       "  </tbody>\n",
       "</table>\n",
       "</div>"
      ],
      "text/plain": [
       "   CreditScore Geography  Gender  ...  IsActiveMember  EstimatedSalary  Exited\n",
       "0          619    France  Female  ...               1        101348.88       1\n",
       "1          608     Spain  Female  ...               1        112542.58       0\n",
       "\n",
       "[2 rows x 11 columns]"
      ]
     },
     "execution_count": 46,
     "metadata": {},
     "output_type": "execute_result"
    }
   ],
   "source": [
    "df.head(2)"
   ]
  },
  {
   "cell_type": "code",
   "execution_count": 47,
   "id": "1221b19b",
   "metadata": {},
   "outputs": [],
   "source": [
    "# Encoding the categorical features: Geography, Gender\n",
    "label_encoder_gender = LabelEncoder()\n",
    "df['Gender'] = label_encoder_gender.fit_transform(df['Gender'])"
   ]
  },
  {
   "cell_type": "code",
   "execution_count": 48,
   "id": "1687cd58",
   "metadata": {},
   "outputs": [
    {
     "data": {
      "text/plain": [
       "array([[1., 0., 0.],\n",
       "       [0., 0., 1.],\n",
       "       [1., 0., 0.],\n",
       "       ...,\n",
       "       [1., 0., 0.],\n",
       "       [0., 1., 0.],\n",
       "       [1., 0., 0.]])"
      ]
     },
     "execution_count": 48,
     "metadata": {},
     "output_type": "execute_result"
    }
   ],
   "source": [
    "# Applying OneHotEncoding to Geography column\n",
    "one_hot_encoder_geography = OneHotEncoder(sparse_output=False)\n",
    "geo_encoder = one_hot_encoder_geography.fit_transform(df[['Geography']])\n",
    "geo_encoder"
   ]
  },
  {
   "cell_type": "code",
   "execution_count": 49,
   "id": "2b0b0bc7",
   "metadata": {},
   "outputs": [
    {
     "data": {
      "text/html": [
       "<div>\n",
       "<style scoped>\n",
       "    .dataframe tbody tr th:only-of-type {\n",
       "        vertical-align: middle;\n",
       "    }\n",
       "\n",
       "    .dataframe tbody tr th {\n",
       "        vertical-align: top;\n",
       "    }\n",
       "\n",
       "    .dataframe thead th {\n",
       "        text-align: right;\n",
       "    }\n",
       "</style>\n",
       "<table border=\"1\" class=\"dataframe\">\n",
       "  <thead>\n",
       "    <tr style=\"text-align: right;\">\n",
       "      <th></th>\n",
       "      <th>CreditScore</th>\n",
       "      <th>Geography</th>\n",
       "      <th>Gender</th>\n",
       "      <th>Age</th>\n",
       "      <th>Tenure</th>\n",
       "      <th>Balance</th>\n",
       "      <th>NumOfProducts</th>\n",
       "      <th>HasCrCard</th>\n",
       "      <th>IsActiveMember</th>\n",
       "      <th>EstimatedSalary</th>\n",
       "      <th>Exited</th>\n",
       "      <th>Geography_France</th>\n",
       "      <th>Geography_Germany</th>\n",
       "      <th>Geography_Spain</th>\n",
       "    </tr>\n",
       "  </thead>\n",
       "  <tbody>\n",
       "    <tr>\n",
       "      <th>0</th>\n",
       "      <td>619</td>\n",
       "      <td>France</td>\n",
       "      <td>0</td>\n",
       "      <td>42</td>\n",
       "      <td>2</td>\n",
       "      <td>0.00</td>\n",
       "      <td>1</td>\n",
       "      <td>1</td>\n",
       "      <td>1</td>\n",
       "      <td>101348.88</td>\n",
       "      <td>1</td>\n",
       "      <td>1.0</td>\n",
       "      <td>0.0</td>\n",
       "      <td>0.0</td>\n",
       "    </tr>\n",
       "    <tr>\n",
       "      <th>1</th>\n",
       "      <td>608</td>\n",
       "      <td>Spain</td>\n",
       "      <td>0</td>\n",
       "      <td>41</td>\n",
       "      <td>1</td>\n",
       "      <td>83807.86</td>\n",
       "      <td>1</td>\n",
       "      <td>0</td>\n",
       "      <td>1</td>\n",
       "      <td>112542.58</td>\n",
       "      <td>0</td>\n",
       "      <td>0.0</td>\n",
       "      <td>0.0</td>\n",
       "      <td>1.0</td>\n",
       "    </tr>\n",
       "  </tbody>\n",
       "</table>\n",
       "</div>"
      ],
      "text/plain": [
       "   CreditScore Geography  ...  Geography_Germany  Geography_Spain\n",
       "0          619    France  ...                0.0              0.0\n",
       "1          608     Spain  ...                0.0              1.0\n",
       "\n",
       "[2 rows x 14 columns]"
      ]
     },
     "execution_count": 49,
     "metadata": {},
     "output_type": "execute_result"
    }
   ],
   "source": [
    "df = pd.concat([df, pd.DataFrame(data=geo_encoder, columns=one_hot_encoder_geography.get_feature_names_out())], axis=1)\n",
    "df.head(2)"
   ]
  },
  {
   "cell_type": "code",
   "execution_count": 50,
   "id": "2c2feff4",
   "metadata": {},
   "outputs": [
    {
     "data": {
      "text/html": [
       "<div>\n",
       "<style scoped>\n",
       "    .dataframe tbody tr th:only-of-type {\n",
       "        vertical-align: middle;\n",
       "    }\n",
       "\n",
       "    .dataframe tbody tr th {\n",
       "        vertical-align: top;\n",
       "    }\n",
       "\n",
       "    .dataframe thead th {\n",
       "        text-align: right;\n",
       "    }\n",
       "</style>\n",
       "<table border=\"1\" class=\"dataframe\">\n",
       "  <thead>\n",
       "    <tr style=\"text-align: right;\">\n",
       "      <th></th>\n",
       "      <th>CreditScore</th>\n",
       "      <th>Gender</th>\n",
       "      <th>Age</th>\n",
       "      <th>Tenure</th>\n",
       "      <th>Balance</th>\n",
       "      <th>NumOfProducts</th>\n",
       "      <th>HasCrCard</th>\n",
       "      <th>IsActiveMember</th>\n",
       "      <th>EstimatedSalary</th>\n",
       "      <th>Exited</th>\n",
       "      <th>Geography_France</th>\n",
       "      <th>Geography_Germany</th>\n",
       "      <th>Geography_Spain</th>\n",
       "    </tr>\n",
       "  </thead>\n",
       "  <tbody>\n",
       "    <tr>\n",
       "      <th>0</th>\n",
       "      <td>619</td>\n",
       "      <td>0</td>\n",
       "      <td>42</td>\n",
       "      <td>2</td>\n",
       "      <td>0.00</td>\n",
       "      <td>1</td>\n",
       "      <td>1</td>\n",
       "      <td>1</td>\n",
       "      <td>101348.88</td>\n",
       "      <td>1</td>\n",
       "      <td>1.0</td>\n",
       "      <td>0.0</td>\n",
       "      <td>0.0</td>\n",
       "    </tr>\n",
       "    <tr>\n",
       "      <th>1</th>\n",
       "      <td>608</td>\n",
       "      <td>0</td>\n",
       "      <td>41</td>\n",
       "      <td>1</td>\n",
       "      <td>83807.86</td>\n",
       "      <td>1</td>\n",
       "      <td>0</td>\n",
       "      <td>1</td>\n",
       "      <td>112542.58</td>\n",
       "      <td>0</td>\n",
       "      <td>0.0</td>\n",
       "      <td>0.0</td>\n",
       "      <td>1.0</td>\n",
       "    </tr>\n",
       "  </tbody>\n",
       "</table>\n",
       "</div>"
      ],
      "text/plain": [
       "   CreditScore  Gender  ...  Geography_Germany  Geography_Spain\n",
       "0          619       0  ...                0.0              0.0\n",
       "1          608       0  ...                0.0              1.0\n",
       "\n",
       "[2 rows x 13 columns]"
      ]
     },
     "execution_count": 50,
     "metadata": {},
     "output_type": "execute_result"
    }
   ],
   "source": [
    "# Dropping 'Geography' column\n",
    "df.drop(columns=['Geography'], axis=1, inplace=True)\n",
    "df.head(2)"
   ]
  },
  {
   "cell_type": "code",
   "execution_count": 51,
   "id": "aafea311",
   "metadata": {},
   "outputs": [
    {
     "name": "stdout",
     "output_type": "stream",
     "text": [
      "<class 'pandas.core.frame.DataFrame'>\n",
      "RangeIndex: 10000 entries, 0 to 9999\n",
      "Data columns (total 13 columns):\n",
      " #   Column             Non-Null Count  Dtype  \n",
      "---  ------             --------------  -----  \n",
      " 0   CreditScore        10000 non-null  int64  \n",
      " 1   Gender             10000 non-null  int32  \n",
      " 2   Age                10000 non-null  int64  \n",
      " 3   Tenure             10000 non-null  int64  \n",
      " 4   Balance            10000 non-null  float64\n",
      " 5   NumOfProducts      10000 non-null  int64  \n",
      " 6   HasCrCard          10000 non-null  int64  \n",
      " 7   IsActiveMember     10000 non-null  int64  \n",
      " 8   EstimatedSalary    10000 non-null  float64\n",
      " 9   Exited             10000 non-null  int64  \n",
      " 10  Geography_France   10000 non-null  float64\n",
      " 11  Geography_Germany  10000 non-null  float64\n",
      " 12  Geography_Spain    10000 non-null  float64\n",
      "dtypes: float64(5), int32(1), int64(7)\n",
      "memory usage: 976.7 KB\n"
     ]
    }
   ],
   "source": [
    "df.info()"
   ]
  },
  {
   "cell_type": "code",
   "execution_count": 52,
   "id": "04fe61a1",
   "metadata": {},
   "outputs": [],
   "source": [
    "# Saving the preprocessor files in the pkl format\n",
    "def save_object(file_path, preprocessor_object):\n",
    "    with open(file_path, 'wb') as file:\n",
    "        pickle.dump(preprocessor_object, file)"
   ]
  },
  {
   "cell_type": "code",
   "execution_count": 53,
   "id": "6d227474",
   "metadata": {},
   "outputs": [],
   "source": [
    "# Saving LabelEncoder\n",
    "save_object('label_encoder_gender.pkl', label_encoder_gender)"
   ]
  },
  {
   "cell_type": "code",
   "execution_count": 54,
   "id": "6689fde7",
   "metadata": {},
   "outputs": [],
   "source": [
    "# Saving OneHotEncoder\n",
    "save_object('onehot_encoder_geography.pkl', one_hot_encoder_geography)"
   ]
  },
  {
   "cell_type": "code",
   "execution_count": 55,
   "id": "0d1435b7",
   "metadata": {},
   "outputs": [],
   "source": [
    "# Independent and dependent features\n",
    "X = df.drop(columns=['EstimatedSalary'], axis=1)\n",
    "y = df['EstimatedSalary']"
   ]
  },
  {
   "cell_type": "code",
   "execution_count": 56,
   "id": "f4925175",
   "metadata": {},
   "outputs": [],
   "source": [
    "# Train Test split\n",
    "X_train, X_test, y_train, y_test = train_test_split(X, y, test_size=0.20, random_state=42)"
   ]
  },
  {
   "cell_type": "code",
   "execution_count": 57,
   "id": "4ff4c660",
   "metadata": {},
   "outputs": [],
   "source": [
    "# Standard Scaling on numerical features\n",
    "scaler = StandardScaler()\n",
    "X_train_scaled = scaler.fit_transform(X_train)\n",
    "X_test_scaled = scaler.transform(X_test)"
   ]
  },
  {
   "cell_type": "code",
   "execution_count": 58,
   "id": "55a4e729",
   "metadata": {},
   "outputs": [],
   "source": [
    "# Saving the StandardScaler\n",
    "save_object('standard_scaler.pkl', scaler)"
   ]
  },
  {
   "cell_type": "markdown",
   "id": "a24dc4ec",
   "metadata": {},
   "source": [
    "### ANN Regression Model"
   ]
  },
  {
   "cell_type": "code",
   "execution_count": 59,
   "id": "cff20033",
   "metadata": {},
   "outputs": [],
   "source": [
    "import tensorflow as tf\n",
    "from tensorflow.keras.models import Sequential\n",
    "from tensorflow.keras.layers import Dense\n",
    "from tensorflow.keras.callbacks import TensorBoard, EarlyStopping\n",
    "import datetime"
   ]
  },
  {
   "cell_type": "code",
   "execution_count": 69,
   "id": "ccaee7ad",
   "metadata": {},
   "outputs": [],
   "source": [
    "# Building the Sequential model (ANN)\n",
    "model = Sequential([\n",
    "    Dense(64, activation='relu', input_shape=(X_train.shape[1],)),\n",
    "    Dense(32, activation='relu'),\n",
    "    Dense(1)    # Regression problem statement and by default activation='linear'\n",
    "])"
   ]
  },
  {
   "cell_type": "code",
   "execution_count": 70,
   "id": "5c36a52f",
   "metadata": {},
   "outputs": [],
   "source": [
    "opt = tf.keras.optimizers.Adam(learning_rate=0.01)\n",
    "loss = tf.keras.losses.MeanAbsoluteError()"
   ]
  },
  {
   "cell_type": "code",
   "execution_count": 71,
   "id": "db6a4223",
   "metadata": {},
   "outputs": [],
   "source": [
    "model.compile(\n",
    "    optimizer=opt,\n",
    "    loss=loss,\n",
    "    metrics=['mae']\n",
    ")"
   ]
  },
  {
   "cell_type": "code",
   "execution_count": 72,
   "id": "8b0825b9",
   "metadata": {},
   "outputs": [
    {
     "name": "stdout",
     "output_type": "stream",
     "text": [
      "Model: \"sequential_5\"\n",
      "_________________________________________________________________\n",
      " Layer (type)                Output Shape              Param #   \n",
      "=================================================================\n",
      " dense_21 (Dense)            (None, 64)                832       \n",
      "                                                                 \n",
      " dense_22 (Dense)            (None, 32)                2080      \n",
      "                                                                 \n",
      " dense_23 (Dense)            (None, 1)                 33        \n",
      "                                                                 \n",
      "=================================================================\n",
      "Total params: 2945 (11.50 KB)\n",
      "Trainable params: 2945 (11.50 KB)\n",
      "Non-trainable params: 0 (0.00 Byte)\n",
      "_________________________________________________________________\n"
     ]
    }
   ],
   "source": [
    "model.summary()"
   ]
  },
  {
   "cell_type": "code",
   "execution_count": 73,
   "id": "1afd6014",
   "metadata": {},
   "outputs": [],
   "source": [
    "# Setting up tensorboard for logging\n",
    "log_dir = 'logs/fit/' + datetime.datetime.now().strftime(\"%Y%m%d-%H%M%S\")\n",
    "tensorboard_callback = TensorBoard(log_dir=log_dir, histogram_freq=1)"
   ]
  },
  {
   "cell_type": "code",
   "execution_count": 74,
   "id": "3db7d2a3",
   "metadata": {},
   "outputs": [],
   "source": [
    "# Setting up earlystopping\n",
    "early_stopping_callback = EarlyStopping(monitor='val_loss', patience=10, restore_best_weights=True)"
   ]
  },
  {
   "cell_type": "code",
   "execution_count": 75,
   "id": "e66fab80",
   "metadata": {},
   "outputs": [
    {
     "name": "stdout",
     "output_type": "stream",
     "text": [
      "Epoch 1/100\n",
      "WARNING:tensorflow:From c:\\Users\\Swastika\\OneDrive\\Documents\\Udemy Courses\\Data analyst bootcamp\\ANN Classification\\venv\\Lib\\site-packages\\keras\\src\\utils\\tf_utils.py:492: The name tf.ragged.RaggedTensorValue is deprecated. Please use tf.compat.v1.ragged.RaggedTensorValue instead.\n",
      "\n",
      "WARNING:tensorflow:From c:\\Users\\Swastika\\OneDrive\\Documents\\Udemy Courses\\Data analyst bootcamp\\ANN Classification\\venv\\Lib\\site-packages\\keras\\src\\engine\\base_layer_utils.py:384: The name tf.executing_eagerly_outside_functions is deprecated. Please use tf.compat.v1.executing_eagerly_outside_functions instead.\n",
      "\n",
      "250/250 [==============================] - 15s 12ms/step - loss: 56552.9883 - mae: 56552.9883 - val_loss: 51204.5000 - val_mae: 51204.5000\n",
      "Epoch 2/100\n",
      "250/250 [==============================] - 1s 2ms/step - loss: 52441.5664 - mae: 52441.5664 - val_loss: 51509.6406 - val_mae: 51509.6406\n",
      "Epoch 3/100\n",
      "250/250 [==============================] - 1s 2ms/step - loss: 52425.9453 - mae: 52425.9453 - val_loss: 51172.0156 - val_mae: 51172.0156\n",
      "Epoch 4/100\n",
      "250/250 [==============================] - 1s 2ms/step - loss: 52522.0352 - mae: 52522.0352 - val_loss: 51088.8086 - val_mae: 51088.8086\n",
      "Epoch 5/100\n",
      "250/250 [==============================] - 1s 3ms/step - loss: 52171.7852 - mae: 52171.7852 - val_loss: 51235.0234 - val_mae: 51235.0234\n",
      "Epoch 6/100\n",
      "250/250 [==============================] - 1s 3ms/step - loss: 52178.0000 - mae: 52178.0000 - val_loss: 50989.5781 - val_mae: 50989.5781\n",
      "Epoch 7/100\n",
      "250/250 [==============================] - 1s 2ms/step - loss: 52098.5039 - mae: 52098.5039 - val_loss: 51233.1758 - val_mae: 51233.1758\n",
      "Epoch 8/100\n",
      "250/250 [==============================] - 1s 3ms/step - loss: 52108.7383 - mae: 52108.7383 - val_loss: 51929.8164 - val_mae: 51929.8164\n",
      "Epoch 9/100\n",
      "250/250 [==============================] - 1s 3ms/step - loss: 52008.0625 - mae: 52008.0625 - val_loss: 50872.8672 - val_mae: 50872.8672\n",
      "Epoch 10/100\n",
      "250/250 [==============================] - 1s 3ms/step - loss: 52090.1094 - mae: 52090.1094 - val_loss: 51178.9922 - val_mae: 51178.9922\n",
      "Epoch 11/100\n",
      "250/250 [==============================] - 1s 3ms/step - loss: 51917.4219 - mae: 51917.4219 - val_loss: 51198.8086 - val_mae: 51198.8086\n",
      "Epoch 12/100\n",
      "250/250 [==============================] - 1s 3ms/step - loss: 51867.7070 - mae: 51867.7070 - val_loss: 51485.7695 - val_mae: 51485.7695\n",
      "Epoch 13/100\n",
      "250/250 [==============================] - 1s 3ms/step - loss: 51760.3906 - mae: 51760.3906 - val_loss: 51495.7852 - val_mae: 51495.7852\n",
      "Epoch 14/100\n",
      "250/250 [==============================] - 1s 2ms/step - loss: 51661.6758 - mae: 51661.6758 - val_loss: 52205.0586 - val_mae: 52205.0586\n",
      "Epoch 15/100\n",
      "250/250 [==============================] - 1s 3ms/step - loss: 51706.1992 - mae: 51706.1992 - val_loss: 50882.7148 - val_mae: 50882.7148\n",
      "Epoch 16/100\n",
      "250/250 [==============================] - 1s 4ms/step - loss: 51408.4141 - mae: 51408.4141 - val_loss: 52025.0938 - val_mae: 52025.0938\n",
      "Epoch 17/100\n",
      "250/250 [==============================] - 1s 3ms/step - loss: 51563.3828 - mae: 51563.3828 - val_loss: 50916.7305 - val_mae: 50916.7305\n",
      "Epoch 18/100\n",
      "250/250 [==============================] - 1s 4ms/step - loss: 51581.1758 - mae: 51581.1758 - val_loss: 50592.0156 - val_mae: 50592.0156\n",
      "Epoch 19/100\n",
      "250/250 [==============================] - 1s 3ms/step - loss: 51152.7773 - mae: 51152.7773 - val_loss: 52322.8750 - val_mae: 52322.8750\n",
      "Epoch 20/100\n",
      "250/250 [==============================] - 1s 3ms/step - loss: 51523.7305 - mae: 51523.7305 - val_loss: 51061.0742 - val_mae: 51061.0742\n",
      "Epoch 21/100\n",
      "250/250 [==============================] - 1s 2ms/step - loss: 51265.5508 - mae: 51265.5508 - val_loss: 50745.4062 - val_mae: 50745.4062\n",
      "Epoch 22/100\n",
      "250/250 [==============================] - 1s 3ms/step - loss: 51285.2227 - mae: 51285.2227 - val_loss: 50387.9375 - val_mae: 50387.9375\n",
      "Epoch 23/100\n",
      "250/250 [==============================] - 1s 3ms/step - loss: 51241.9570 - mae: 51241.9570 - val_loss: 50897.1836 - val_mae: 50897.1836\n",
      "Epoch 24/100\n",
      "250/250 [==============================] - 1s 2ms/step - loss: 51196.5625 - mae: 51196.5625 - val_loss: 52847.5000 - val_mae: 52847.5000\n",
      "Epoch 25/100\n",
      "250/250 [==============================] - 1s 3ms/step - loss: 51385.2148 - mae: 51385.2148 - val_loss: 50615.4805 - val_mae: 50615.4805\n",
      "Epoch 26/100\n",
      "250/250 [==============================] - 1s 2ms/step - loss: 51204.2148 - mae: 51204.2148 - val_loss: 50804.2031 - val_mae: 50804.2031\n",
      "Epoch 27/100\n",
      "250/250 [==============================] - 1s 2ms/step - loss: 51213.6016 - mae: 51213.6016 - val_loss: 50604.7773 - val_mae: 50604.7773\n",
      "Epoch 28/100\n",
      "250/250 [==============================] - 1s 2ms/step - loss: 50894.5000 - mae: 50894.5000 - val_loss: 50931.0938 - val_mae: 50931.0938\n",
      "Epoch 29/100\n",
      "250/250 [==============================] - 1s 2ms/step - loss: 51266.9531 - mae: 51266.9531 - val_loss: 50418.5234 - val_mae: 50418.5234\n",
      "Epoch 30/100\n",
      "250/250 [==============================] - 1s 3ms/step - loss: 51073.2656 - mae: 51073.2656 - val_loss: 50512.6328 - val_mae: 50512.6328\n",
      "Epoch 31/100\n",
      "250/250 [==============================] - 1s 2ms/step - loss: 51118.1172 - mae: 51118.1172 - val_loss: 50609.1758 - val_mae: 50609.1758\n",
      "Epoch 32/100\n",
      "250/250 [==============================] - 1s 3ms/step - loss: 51176.5430 - mae: 51176.5430 - val_loss: 51331.9336 - val_mae: 51331.9336\n"
     ]
    }
   ],
   "source": [
    "# Model fitting and validation\n",
    "history = model.fit(X_train, y_train, validation_data=(X_test, y_test), epochs=100, \n",
    "                    callbacks=[tensorboard_callback, early_stopping_callback])"
   ]
  },
  {
   "cell_type": "code",
   "execution_count": 81,
   "id": "2c004c11",
   "metadata": {},
   "outputs": [
    {
     "name": "stdout",
     "output_type": "stream",
     "text": [
      "The tensorboard extension is already loaded. To reload it, use:\n",
      "  %reload_ext tensorboard\n"
     ]
    },
    {
     "data": {
      "text/plain": [
       "Reusing TensorBoard on port 6007 (pid 21264), started 22:36:58 ago. (Use '!kill 21264' to kill it.)"
      ]
     },
     "metadata": {},
     "output_type": "display_data"
    },
    {
     "data": {
      "text/html": [
       "\n",
       "      <iframe id=\"tensorboard-frame-3ab1dac3d9d0c3f3\" width=\"100%\" height=\"800\" frameborder=\"0\">\n",
       "      </iframe>\n",
       "      <script>\n",
       "        (function() {\n",
       "          const frame = document.getElementById(\"tensorboard-frame-3ab1dac3d9d0c3f3\");\n",
       "          const url = new URL(\"http://localhost\");\n",
       "          const port = 6007;\n",
       "          if (port) {\n",
       "            url.port = port;\n",
       "          }\n",
       "          frame.src = url;\n",
       "        })();\n",
       "      </script>\n",
       "    "
      ],
      "text/plain": [
       "<IPython.core.display.HTML object>"
      ]
     },
     "metadata": {},
     "output_type": "display_data"
    }
   ],
   "source": [
    "# Load Tensorboard extension\n",
    "%load_ext tensorboard\n",
    "%tensorboard --logdir logs/fit"
   ]
  },
  {
   "cell_type": "code",
   "execution_count": 82,
   "id": "e40abbbd",
   "metadata": {},
   "outputs": [
    {
     "name": "stdout",
     "output_type": "stream",
     "text": [
      "63/63 [==============================] - 0s 4ms/step - loss: 50387.9375 - mae: 50387.9375\n"
     ]
    },
    {
     "data": {
      "text/plain": [
       "(50387.9375, 50387.9375)"
      ]
     },
     "execution_count": 82,
     "metadata": {},
     "output_type": "execute_result"
    }
   ],
   "source": [
    "# Evaluate the model using test data\n",
    "test_loss, test_mae = model.evaluate(X_test, y_test)\n",
    "test_loss, test_mae"
   ]
  },
  {
   "cell_type": "code",
   "execution_count": 84,
   "id": "470c58d0",
   "metadata": {},
   "outputs": [],
   "source": [
    "# Saving the model\n",
    "model.save('ann_model_reg.h5')  # h5 file which is compatible with Keras"
   ]
  }
 ],
 "metadata": {
  "kernelspec": {
   "display_name": "Python 3",
   "language": "python",
   "name": "python3"
  },
  "language_info": {
   "codemirror_mode": {
    "name": "ipython",
    "version": 3
   },
   "file_extension": ".py",
   "mimetype": "text/x-python",
   "name": "python",
   "nbconvert_exporter": "python",
   "pygments_lexer": "ipython3",
   "version": "3.11.0"
  }
 },
 "nbformat": 4,
 "nbformat_minor": 5
}
