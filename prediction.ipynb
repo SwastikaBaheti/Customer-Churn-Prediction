{
 "cells": [
  {
   "cell_type": "code",
   "execution_count": 62,
   "id": "d8ff23f1",
   "metadata": {},
   "outputs": [],
   "source": [
    "import pickle\n",
    "import pandas as pd\n",
    "import numpy as np\n",
    "import tensorflow\n",
    "from tensorflow.keras.models import load_model"
   ]
  },
  {
   "cell_type": "code",
   "execution_count": 63,
   "id": "f45c3261",
   "metadata": {},
   "outputs": [],
   "source": [
    "# Load the pickle file\n",
    "def load_pickle_object(file_path):\n",
    "    with open(file_path, 'rb') as f:\n",
    "        return pickle.load(file=f)"
   ]
  },
  {
   "cell_type": "code",
   "execution_count": 64,
   "id": "eca1fb22",
   "metadata": {},
   "outputs": [],
   "source": [
    "# Load the preprocessing pickle file\n",
    "label_encoder_gender = load_pickle_object('label_encoder_gender.pkl')\n",
    "onehot_encoder_geography = load_pickle_object('onehot_encoder_geography.pkl')\n",
    "std_scaler = load_pickle_object('standard_scaler.pkl')"
   ]
  },
  {
   "cell_type": "code",
   "execution_count": 65,
   "id": "c4cf5ff9",
   "metadata": {},
   "outputs": [],
   "source": [
    "# Load the ANN model\n",
    "ann_model = load_model('ann_model.h5')"
   ]
  },
  {
   "cell_type": "code",
   "execution_count": 66,
   "id": "07b28942",
   "metadata": {},
   "outputs": [],
   "source": [
    "# Example input data\n",
    "input_data = {\n",
    "    'CreditScore': 600,\n",
    "    'Geography': 'France',\n",
    "    'Gender': 'Male',\n",
    "    'Age': 40,\n",
    "    'Tenure': 3,\n",
    "    'Balance': 60000,\n",
    "    'NumOfProducts': 2,\n",
    "    'HasCrCard': 1,\n",
    "    'IsActiveMember': 1,\n",
    "    'EstimatedSalary': 50000\n",
    "}"
   ]
  },
  {
   "cell_type": "code",
   "execution_count": 67,
   "id": "b9dfd41a",
   "metadata": {},
   "outputs": [
    {
     "name": "stderr",
     "output_type": "stream",
     "text": [
      "c:\\Users\\Swastika\\OneDrive\\Documents\\Udemy Courses\\Data analyst bootcamp\\ANN Classification\\venv\\Lib\\site-packages\\sklearn\\utils\\validation.py:2749: UserWarning: X does not have valid feature names, but OneHotEncoder was fitted with feature names\n",
      "  warnings.warn(\n"
     ]
    }
   ],
   "source": [
    "# Preprocessing the input_data\n",
    "df = pd.DataFrame([input_data])\n",
    "df['Gender'] = label_encoder_gender.transform(df['Gender'])\n",
    "onehotencoded_geography = onehot_encoder_geography.transform([df['Geography']])"
   ]
  },
  {
   "cell_type": "code",
   "execution_count": 68,
   "id": "d4bb3939",
   "metadata": {},
   "outputs": [],
   "source": [
    "df = pd.concat([pd.DataFrame(onehotencoded_geography, columns=onehot_encoder_geography.get_feature_names_out()), df], axis=1)"
   ]
  },
  {
   "cell_type": "code",
   "execution_count": 69,
   "id": "9ee6d19c",
   "metadata": {},
   "outputs": [],
   "source": [
    "df.drop(columns=['Geography'], axis=1, inplace=True)"
   ]
  },
  {
   "cell_type": "code",
   "execution_count": 70,
   "id": "6811650d",
   "metadata": {},
   "outputs": [],
   "source": [
    "# Applying standard scaling over the input_data\n",
    "input_preprocessed = std_scaler.transform(df)"
   ]
  },
  {
   "cell_type": "code",
   "execution_count": 71,
   "id": "60e4e55e",
   "metadata": {},
   "outputs": [
    {
     "data": {
      "text/plain": [
       "array([[ 1.00150113, -0.57946723, -0.57638802, -0.53598516,  0.91324755,\n",
       "         0.10479359, -0.69539349, -0.25781119,  0.80843615,  0.64920267,\n",
       "         0.97481699, -0.87683221]])"
      ]
     },
     "execution_count": 71,
     "metadata": {},
     "output_type": "execute_result"
    }
   ],
   "source": [
    "input_preprocessed"
   ]
  },
  {
   "cell_type": "code",
   "execution_count": 72,
   "id": "2d527770",
   "metadata": {},
   "outputs": [
    {
     "name": "stdout",
     "output_type": "stream",
     "text": [
      "1/1 [==============================] - 1s 731ms/step\n"
     ]
    }
   ],
   "source": [
    "model_prediction = ann_model.predict(input_preprocessed)"
   ]
  },
  {
   "cell_type": "code",
   "execution_count": 76,
   "id": "c8a516e1",
   "metadata": {},
   "outputs": [
    {
     "data": {
      "text/plain": [
       "0.28807282"
      ]
     },
     "execution_count": 76,
     "metadata": {},
     "output_type": "execute_result"
    }
   ],
   "source": [
    "model_prediction_prob = model_prediction[0][0]\n",
    "model_prediction_prob"
   ]
  },
  {
   "cell_type": "code",
   "execution_count": 78,
   "id": "e3bf5025",
   "metadata": {},
   "outputs": [
    {
     "name": "stdout",
     "output_type": "stream",
     "text": [
      "Not exiting\n"
     ]
    }
   ],
   "source": [
    "if model_prediction_prob > 0.5:\n",
    "    print('Exiting')\n",
    "else:\n",
    "    print('Not exiting')"
   ]
  }
 ],
 "metadata": {
  "kernelspec": {
   "display_name": "Python 3",
   "language": "python",
   "name": "python3"
  },
  "language_info": {
   "codemirror_mode": {
    "name": "ipython",
    "version": 3
   },
   "file_extension": ".py",
   "mimetype": "text/x-python",
   "name": "python",
   "nbconvert_exporter": "python",
   "pygments_lexer": "ipython3",
   "version": "3.11.0"
  }
 },
 "nbformat": 4,
 "nbformat_minor": 5
}
